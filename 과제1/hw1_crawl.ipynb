{
 "cells": [
  {
   "cell_type": "code",
   "execution_count": 100,
   "id": "16239b13",
   "metadata": {},
   "outputs": [],
   "source": [
    "from bs4 import BeautifulSoup\n",
    "from selenium import webdriver\n",
    "from selenium.webdriver.chrome.options import Options\n",
    "from selenium.webdriver.chrome.service import Service\n",
    "from webdriver_manager.chrome import ChromeDriverManager\n",
    "from selenium.webdriver.common.by import By\n",
    "from selenium.webdriver.chrome.service import Service\n",
    "from urllib.parse import urlparse, parse_qs, parse_qsl\n",
    "import time\n",
    "\n",
    "service = Service()\n",
    "options = webdriver.ChromeOptions()\n",
    "# options.add_argument('--headless')\n",
    "options.add_argument('--no-sandbox')\n",
    "options.add_argument('--disable-dev-shm-usage')\n",
    "\n",
    "driver = webdriver.Chrome(service=service, options=options)"
   ]
  },
  {
   "cell_type": "code",
   "execution_count": 101,
   "id": "adbeab8d",
   "metadata": {},
   "outputs": [],
   "source": [
    "site_url = \"https://www.teamblind.com/kr/topics/부동산\"\n",
    "driver.get(site_url)\n",
    "driver.implicitly_wait(3)\n",
    "time.sleep(2)  # 페이지 로딩 대기"
   ]
  },
  {
   "cell_type": "code",
   "execution_count": 103,
   "id": "f20ca499",
   "metadata": {},
   "outputs": [
    {
     "data": {
      "text/plain": [
       "'https://www.teamblind.com/kr/post/%EC%A0%84%EC%84%B8%EA%B0%80-%EB%B3%91%EC%8B%A0%EC%A7%93%EC%9D%B8%EA%B1%B8-%EB%AA%A8%EB%A5%B4%EB%8A%94-%EC%82%AC%EB%9E%8C%EC%9D%B4-%EB%A7%8E%EB%8B%A4%EB%8A%94%EA%B2%8C-%EB%86%80%EB%9E%8D%EB%8B%A4-u5acsfxw'"
      ]
     },
     "execution_count": 103,
     "metadata": {},
     "output_type": "execute_result"
    }
   ],
   "source": [
    "driver.find_element(By.CLASS_NAME, \"tit\").find_element(By.XPATH, 'h3/a').get_attribute('href')"
   ]
  },
  {
   "cell_type": "code",
   "execution_count": 102,
   "id": "cecefb96",
   "metadata": {},
   "outputs": [
    {
     "data": {
      "text/plain": [
       "'전세가 병신짓인걸 모르는 사람이 많다는게 놀랍다'"
      ]
     },
     "execution_count": 102,
     "metadata": {},
     "output_type": "execute_result"
    }
   ],
   "source": [
    "driver.find_element(By.CLASS_NAME, \"tit\").find_element(By.XPATH, 'h3/a').text"
   ]
  },
  {
   "cell_type": "code",
   "execution_count": 106,
   "id": "fe0d587e",
   "metadata": {},
   "outputs": [
    {
     "data": {
      "text/plain": [
       "'NOW\\n전세가 병신짓인걸 모르는 사람이 많다는게 놀랍다\\n내 살다살다 흙수저들이 돈 모으기 유용한 제도로 전세제도 만한게 없다는 헛소리를 듣게 되는 경우도 있네 전세제도는 진짜 뭣도 모르는 애들 등쳐먹기 위한 제도야 무주택으로 전세를 산다는 자체가 숏포지션인데 포지션은 숏잡고 자기 전재산에 대출까지 끌어다가 남 집사는 비용에 보태준다고? 세상에 그것보다 더한 병신짓이 또 있을까?\\nKT · U*****\\n조회수\\n11K\\n좋아요\\n54\\n댓글\\n146\\n작성시간\\n8시간\\n북마크'"
      ]
     },
     "execution_count": 106,
     "metadata": {},
     "output_type": "execute_result"
    }
   ],
   "source": [
    "# 최초 설정\n",
    "a=driver.find_element(By.CLASS_NAME, \"article-list-pre\")\n",
    "a.text"
   ]
  },
  {
   "cell_type": "code",
   "execution_count": 233,
   "id": "c74fc4fd",
   "metadata": {},
   "outputs": [
    {
     "name": "stdout",
     "output_type": "stream",
     "text": [
      "article-list-pre nth-odd\n"
     ]
    },
    {
     "data": {
      "text/plain": [
       "'경기 남부 (화성,오산,평택) 집값 전망 어케 생각함?\\n지금은 서울 본가 사는중이고 나중에 이직해서 화성,오산,평택쪽에 집사고 이직해서 살려고 하는데 집값 어떨까 더 오르진 않겠지..?\\n새회사 · 트*********\\n조회수\\n343\\n좋아요\\n좋아요\\n댓글\\n35\\n작성시간\\n2시간\\n북마크'"
      ]
     },
     "execution_count": 233,
     "metadata": {},
     "output_type": "execute_result"
    }
   ],
   "source": [
    "a=a.find_element(By.XPATH, './following-sibling::div')\n",
    "print(a.get_attribute('class'))\n",
    "a.text"
   ]
  },
  {
   "cell_type": "code",
   "execution_count": 232,
   "id": "4e32f844",
   "metadata": {},
   "outputs": [],
   "source": [
    "driver.execute_script(\"window.scrollTo(0, document.body.scrollHeight);\")\n",
    "time.sleep(2)    "
   ]
  },
  {
   "cell_type": "code",
   "execution_count": null,
   "id": "513fa8d3",
   "metadata": {},
   "outputs": [],
   "source": []
  }
 ],
 "metadata": {
  "kernelspec": {
   "display_name": "base",
   "language": "python",
   "name": "python3"
  },
  "language_info": {
   "codemirror_mode": {
    "name": "ipython",
    "version": 3
   },
   "file_extension": ".py",
   "mimetype": "text/x-python",
   "name": "python",
   "nbconvert_exporter": "python",
   "pygments_lexer": "ipython3",
   "version": "3.12.7"
  }
 },
 "nbformat": 4,
 "nbformat_minor": 5
}
