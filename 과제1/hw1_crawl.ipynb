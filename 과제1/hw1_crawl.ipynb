{
 "cells": [
  {
   "cell_type": "code",
   "execution_count": 287,
   "id": "16239b13",
   "metadata": {},
   "outputs": [],
   "source": [
    "from bs4 import BeautifulSoup\n",
    "from selenium import webdriver\n",
    "from selenium.webdriver.chrome.options import Options\n",
    "from selenium.webdriver.chrome.service import Service\n",
    "from webdriver_manager.chrome import ChromeDriverManager\n",
    "from selenium.webdriver.common.by import By\n",
    "from selenium.webdriver.chrome.service import Service\n",
    "from urllib.parse import urlparse, parse_qs, parse_qsl\n",
    "import time\n",
    "from datetime import datetime, timedelta\n",
    "import re\n",
    "from selenium.common.exceptions import NoSuchElementException\n",
    "import pandas as pd"
   ]
  },
  {
   "cell_type": "code",
   "execution_count": 315,
   "id": "9098fde8",
   "metadata": {},
   "outputs": [],
   "source": [
    "service = Service()\n",
    "options = webdriver.ChromeOptions()\n",
    "# options.add_argument('--headless')\n",
    "options.add_argument('--no-sandbox')\n",
    "options.add_argument('--disable-dev-shm-usage')\n",
    "\n",
    "driver = webdriver.Chrome(service=service, options=options)"
   ]
  },
  {
   "cell_type": "code",
   "execution_count": 316,
   "id": "adbeab8d",
   "metadata": {},
   "outputs": [],
   "source": [
    "site_url = \"https://www.teamblind.com/kr/topics/부동산\"\n",
    "driver.get(site_url)\n",
    "driver.implicitly_wait(3)\n",
    "time.sleep(2)  # 페이지 로딩 대기"
   ]
  },
  {
   "cell_type": "code",
   "execution_count": 4,
   "id": "f20ca499",
   "metadata": {},
   "outputs": [
    {
     "data": {
      "text/plain": [
       "'https://www.teamblind.com/kr/post/%EB%8B%A4%EB%A5%B8%EA%B1%B4-%EB%AA%B0%EB%9D%BC%EB%8F%84-%EB%8F%88-%EB%A7%8E%EC%9D%80-%EC%82%AC%EB%9E%8C%EC%9D%B4-%EB%A7%8E%EB%8B%A4%EB%8A%94-%EB%A7%90%EC%9D%80-%EA%B0%9C%EA%B5%AC%EB%9D%BC%EC%95%BC%E3%85%8E%E3%85%8E-26nihsck'"
      ]
     },
     "execution_count": 4,
     "metadata": {},
     "output_type": "execute_result"
    }
   ],
   "source": [
    "# Get Link on div\n",
    "sub_link = driver.find_element(By.CLASS_NAME, \"tit\").find_element(By.XPATH, 'h3/a').get_attribute('href')\n",
    "sub_link"
   ]
  },
  {
   "cell_type": "code",
   "execution_count": null,
   "id": "32af61bc",
   "metadata": {},
   "outputs": [],
   "source": [
    "# 게시글 진입\n",
    "driver.get(sub_link)"
   ]
  },
  {
   "cell_type": "code",
   "execution_count": null,
   "id": "0fcf209d",
   "metadata": {},
   "outputs": [
    {
     "data": {
      "text/plain": [
       "'다른건 몰라도 돈 많은 사람이 많다는 말은 개구라야ㅎㅎ'"
      ]
     },
     "execution_count": 8,
     "metadata": {},
     "output_type": "execute_result"
    }
   ],
   "source": [
    "# 게시글 + 댓글 크롤링 start\n",
    "# 제목 (<h2>)\n",
    "driver.find_element(By.CLASS_NAME, \"article-view-head\").find_element(By.CSS_SELECTOR, \"h2\").text"
   ]
  },
  {
   "cell_type": "code",
   "execution_count": 38,
   "id": "2b4eaf12",
   "metadata": {},
   "outputs": [
    {
     "data": {
      "text/plain": [
       "'내가 담당했던 업무 (지금은 아님)가\\n\\nKb부자리포트 같은 곳에 반영되는 고객들 금융자산 현황 만들었었거덩\\n\\n당행뿐 아니라 타행들것도 같이 볼수있는데 거의 전국민의 금융자산 현황을 매일 보는 업무를 했었음ㅎㅎ 개인정보를 본건아니고 전체적인 현황 자료\\n\\n그거보면서 느낀게\\n\\n돈 많은 사람 겁나 많다는거 다 개구라 라는걸 느꼈다ㅎㅎ\\n\\n대부분이 빚더미 위에 올라서 돈많은 척하는거지\\n\\n솔직히 금융자산 자체가 비슷한 경제규모의 타국에 비해 현저히 적음\\n\\n지들끼리는 나 빼고 다 돈 많아~ 우리나라에 돈많은 사람들이 얼마나 많은데 이러고있는게 웃음벨\\n\\n통계에 금융자산 10억이 우리나라에 0.8%도 안되는게 레알인데 저기엔 채권이나 펀드 주식 등 모든 금융자산이 포함되어있어서 당장 현금화시킬수있는 돈 기준으로 하면 진짜 돈많은 사람은 거의 없다\\n\\n한마디로 집 빼면 대부분 빚더미에 앉아있는 위태위태한 사람들이 거의 다더라..'"
      ]
     },
     "execution_count": 38,
     "metadata": {},
     "output_type": "execute_result"
    }
   ],
   "source": [
    "# 게시글\n",
    "driver.find_element(By.CLASS_NAME, \"article-view-contents\").find_element(By.ID, \"contentArea\").text"
   ]
  },
  {
   "cell_type": "code",
   "execution_count": null,
   "id": "fa75dc16",
   "metadata": {},
   "outputs": [
    {
     "data": {
      "text/plain": [
       "'SC제일은행'"
      ]
     },
     "execution_count": 18,
     "metadata": {},
     "output_type": "execute_result"
    }
   ],
   "source": [
    "# 작성회사\n",
    "driver.find_element(By.CLASS_NAME, \"name\").find_element(By.CLASS_NAME, \"point\").text"
   ]
  },
  {
   "cell_type": "code",
   "execution_count": 25,
   "id": "becc101d",
   "metadata": {},
   "outputs": [
    {
     "data": {
      "text/plain": [
       "'· l********  '"
      ]
     },
     "execution_count": 25,
     "metadata": {},
     "output_type": "execute_result"
    }
   ],
   "source": [
    "# 작성ID\n",
    "driver.find_element(By.CLASS_NAME, \"name\").text.split('\\n')[-1]"
   ]
  },
  {
   "cell_type": "code",
   "execution_count": 30,
   "id": "944a5dbb",
   "metadata": {},
   "outputs": [],
   "source": [
    "# 작성일(절대날짜 추출)\n",
    "def convert_date(relative_text):\n",
    "    \"\"\"\n",
    "    상대적인 시간 표현을 절대 날짜로 변환하는 함수\n",
    "    \n",
    "    Args:\n",
    "        relative_text (str): '방금', '2분', '1시간', '1일', '1달' 등의 텍스트\n",
    "    \n",
    "    Returns:\n",
    "        str: '%Y-%m-%d' 형태의 절대 날짜\n",
    "    \"\"\"\n",
    "    # 현재 날짜 및 시간\n",
    "    now = datetime.now()\n",
    "    # 공백 제거 및 소문자 변환\n",
    "    text = relative_text.strip()\n",
    "    # '방금'인 경우 오늘 날짜 반환\n",
    "    if text == '방금':\n",
    "        return now.strftime('%Y-%m-%d')\n",
    "    \n",
    "    # 숫자와 단위 추출을 위한 정규표현식\n",
    "    pattern = r'(\\d+)(분|시간|일|달|주)'\n",
    "    match = re.search(pattern, text)\n",
    "    \n",
    "    if not match:\n",
    "        # 패턴이 매치되지 않으면 오늘 날짜 반환\n",
    "        return now.strftime('%Y-%m-%d')\n",
    "    \n",
    "    number = int(match.group(1))\n",
    "    unit = match.group(2)\n",
    "    \n",
    "    # 단위별로 날짜 계산\n",
    "    if unit == '분':\n",
    "        target_date = now - timedelta(minutes=number)\n",
    "    elif unit == '시간':\n",
    "        target_date = now - timedelta(hours=number)\n",
    "    elif unit == '일':\n",
    "        target_date = now - timedelta(days=number)\n",
    "    elif unit == '주':\n",
    "        target_date = now - timedelta(weeks=number)\n",
    "    elif unit == '달':\n",
    "        # 달의 경우 대략 30일로 계산 (정확하지 않을 수 있음)\n",
    "        target_date = now - timedelta(days=number * 30)\n",
    "    else:\n",
    "        target_date = now\n",
    "    \n",
    "    return target_date.strftime('%Y-%m-%d')"
   ]
  },
  {
   "cell_type": "code",
   "execution_count": 32,
   "id": "731767dd",
   "metadata": {},
   "outputs": [
    {
     "data": {
      "text/plain": [
       "'4일'"
      ]
     },
     "execution_count": 32,
     "metadata": {},
     "output_type": "execute_result"
    }
   ],
   "source": [
    "# 작성일(현재시점 며칠 전)\n",
    "write_date_before=driver.find_element(By.CLASS_NAME, \"date\").text.split('\\n')[-1]\n",
    "write_date_before"
   ]
  },
  {
   "cell_type": "code",
   "execution_count": null,
   "id": "2891ec3b",
   "metadata": {},
   "outputs": [
    {
     "data": {
      "text/plain": [
       "'2025-06-28'"
      ]
     },
     "execution_count": 33,
     "metadata": {},
     "output_type": "execute_result"
    }
   ],
   "source": [
    "# 작성일(절대시간 기준)\n",
    "convert_date(write_date_before)"
   ]
  },
  {
   "cell_type": "code",
   "execution_count": 35,
   "id": "53e35dbc",
   "metadata": {},
   "outputs": [
    {
     "data": {
      "text/plain": [
       "'201'"
      ]
     },
     "execution_count": 35,
     "metadata": {},
     "output_type": "execute_result"
    }
   ],
   "source": [
    "# 좋아요\n",
    "driver.find_element(By.CLASS_NAME, \"like\").text.split('\\n')[-1]"
   ]
  },
  {
   "cell_type": "code",
   "execution_count": 37,
   "id": "4f360286",
   "metadata": {},
   "outputs": [
    {
     "data": {
      "text/plain": [
       "'145'"
      ]
     },
     "execution_count": 37,
     "metadata": {},
     "output_type": "execute_result"
    }
   ],
   "source": [
    "# 댓글수\n",
    "driver.find_element(By.CLASS_NAME, \"cmt\").text.split('\\n')[-1]"
   ]
  },
  {
   "cell_type": "code",
   "execution_count": null,
   "id": "3777ee28",
   "metadata": {},
   "outputs": [],
   "source": [
    "# 댓글 세부내용 추출\n",
    "# 댓글이 더 있는경우 모두 펼친다\n",
    "# 이 기능은 로그인 되어있는 경우만 가능\n",
    "driver.find_element(By.CLASS_NAME, \"btn-reply\").click()"
   ]
  },
  {
   "cell_type": "code",
   "execution_count": null,
   "id": "d5b0d3bd",
   "metadata": {},
   "outputs": [
    {
     "data": {
      "text/plain": [
       "<selenium.webdriver.remote.webelement.WebElement (session=\"8483d6fa5b242ce85251fb8bae404044\", element=\"f.6FE7B10A4ABC9024921797A9D4DD568D.d.B505AED63D3E7AA3F6906F3382FF69E0.e.11677\")>"
      ]
     },
     "execution_count": 54,
     "metadata": {},
     "output_type": "execute_result"
    }
   ],
   "source": [
    "# Blind 인증 요구 시 다음 Element 가 생긴다\n",
    "# 해당 Element가 존재한다면 로그인 불가로 간주하고 현재 보여지는 댓글만 가져오고 끝낸다\n",
    "# 해당 Element가 없다면, try-catch 로 계속 진행하도록 수행(로그인 된 것으로 간주)\n",
    "driver.find_element(By.XPATH, \"/html/body/div/div/div/main/div[3]/div[1]/div\")"
   ]
  },
  {
   "cell_type": "code",
   "execution_count": 79,
   "id": "b51e28b4",
   "metadata": {},
   "outputs": [
    {
     "data": {
      "text/plain": [
       "'한국전력공사\\n· i*********\\n또또 주변도르\\n작성일\\n3일\\n좋아요수\\n14'"
      ]
     },
     "execution_count": 79,
     "metadata": {},
     "output_type": "execute_result"
    }
   ],
   "source": [
    "comment_element_list=driver.find_elements(By.CLASS_NAME, \"comment_area\")\n",
    "comment_element_list[2].text"
   ]
  },
  {
   "cell_type": "code",
   "execution_count": 102,
   "id": "3ffe869d",
   "metadata": {},
   "outputs": [
    {
     "name": "stdout",
     "output_type": "stream",
     "text": [
      "한양대학교교직원\n",
      "\n",
      " i*******\n",
      "\n",
      "와 중소기업연구원은\n",
      "ㄹㅇ 멍청한게신념도 강해서\n",
      "때려죽여도 남의말은 안듣네\n",
      "\n",
      "너무추하다ㅋㅋ\n",
      "\n"
     ]
    }
   ],
   "source": [
    "print(comment_element_list[7].text.split('·')[0]) # 리플 작성회사\n",
    "print(comment_element_list[7].text.split('·')[1].split('\\n')[0]) # 리플 작성ID\n",
    "print(comment_element_list[7].text.split('·')[1].split(comment_element_list[7].text.split('·')[1].split('\\n')[0])[1].split('작성일')[0]) # 리플 내용"
   ]
  },
  {
   "cell_type": "code",
   "execution_count": 105,
   "id": "5f1492a8",
   "metadata": {},
   "outputs": [],
   "source": [
    "def get_comment_txt(comment) :\n",
    "    comment_map = {}\n",
    "    comment_map['firm']=comment.text.split('·')[0] # 리플 작성회사\n",
    "    comment_map['id']=comment.text.split('·')[1].split('\\n')[0]  # 리플 작성ID\n",
    "    # comment_map['contents']=comment.text.split('·')[1].split('\\n')[1]  # 리플 내용\n",
    "    comment_map['contents']=comment.text.split('·')[1].split(comment.text.split('·')[1].split('\\n')[0])[1].split('작성일')[0] # 리플 내용\n",
    "    \n",
    "    return comment_map"
   ]
  },
  {
   "cell_type": "code",
   "execution_count": 119,
   "id": "40b6b65d",
   "metadata": {},
   "outputs": [
    {
     "data": {
      "text/plain": [
       "[{'firm': '변호사 ', 'id': ' P*****', 'contents': '\\n30살 연봉 1억이면 상위 몇퍼야\\n'},\n",
       " {'firm': '새회사 ',\n",
       "  'id': ' 세********',\n",
       "  'contents': '\\n나 만 28인데 부채제외 주식 부동산 차량 다 현금화하면 7억은 됨 근데 내 주변에 친구들은 다 더 부자야\\n생각보다 부자 많어 ㅠㅡㅠ\\n'},\n",
       " {'firm': '한국전력공사\\n', 'id': ' i*********', 'contents': '\\n또또 주변도르\\n'},\n",
       " {'firm': '새회사 ',\n",
       "  'id': ' I********',\n",
       "  'contents': '\\n우리나라에 순자산 32억 이상 있는 가구는 20만이 넘어\\n\\n“상위 1%“인 20만 가구는 서울의 한 구 전체, 혹은 중소도시 하나를 통째로 구성할 정도로 엄청나게 큰 집단입니다.\\n단순히 ‘극소수’가 아닌, 꽤 두터운 규모의 인원이라는 걸 알 수 있죠.\\n\\n참고로 금융자산 10억 이상은 46만명임\\n46만이면 성남시 분당구 인구수랑 같음\\n\\n이렇게 많은 사람들이 5000만명 대비는 작으니까 우리나라 부자 ㅈ도없엌ㅋㅋㅋㅋ 라고할수 있을까?\\n\\n손바닥으로 태양을 가리고 어둡다고 하는거지\\n\\n그리고 부자들을 모여살아 끼리끼리\\n\\n본인주변에 부자가 없다면\\n왜일까 생각해 보자\\n'},\n",
       " {'firm': 'SC제일은행\\n',\n",
       "  'id': ' l********',\n",
       "  'contents': '\\n작성자\\nㅋㅋㅋ 내가 그 순자산 32억이상 있는 가구중 한명인데. 나도 부동산에 묶여있어서 사실 현금이 별로없어. 그리고 현금화? 그게 말이쉽지 부동산 파는건 쉬운일이 아니다. 양도세도 그렇고\\n\\n대다수 32억이상 있는 가구들도 나와 사정이 별반 다르지않을거야 그러니 금융자산 있는 사람들이 우리나라엔 별로없는것임.\\n'},\n",
       " {'firm': '신영증권\\n',\n",
       "  'id': ' 신****',\n",
       "  'contents': '\\nㅋㅋㅋ 은행이 자료를가지고 말해도\\n\"주변도르\" \"친구이야기\" 등등으로 자존감 채우는 블라허세인들\\n'},\n",
       " {'firm': '중소기업연구원\\n',\n",
       "  'id': ' s******',\n",
       "  'contents': '\\n대다수가 작성자의 요지를 파악못한다면 그건, 독자가 아닌 작성자의 글이 충분히 이상하다는 걸 의미함…. 논리야 놀자 라도 읽고와..\\n'},\n",
       " {'firm': '한양대학교교직원\\n',\n",
       "  'id': ' i*******',\n",
       "  'contents': '\\n와 중소기업연구원은\\nㄹㅇ 멍청한게신념도 강해서\\n때려죽여도 남의말은 안듣네\\n\\n너무추하다ㅋㅋ\\n'},\n",
       " {'firm': '신영증권\\n',\n",
       "  'id': ' 신****',\n",
       "  'contents': '\\n중.소.기업연구원님이 무조건 맞습니다!!!\\n주변에 강남살고 부자인 친구들이 많으신!!!!!\\n근데 내 주변에 강남사는 부자애들이 다니는 직장중에\\n중.소.기업연구원은 본적없는데..\\nㅎㅎㅎ죄송 저도 주변도르였음\\n'},\n",
       " {'firm': 'NCSOFT\\n',\n",
       "  'id': ' i*********',\n",
       "  'contents': '\\n한국 사람들 부동산을 너무 좋아해서\\n금융자산 있는 사람들이 진짜 적긴하네\\n얼마전에 나이 40에 금융자산 10억 찍었는데\\n이 정도면 동나이에서 상위 몇퍼센트 정도 될까?\\n'},\n",
       " {'firm': '새회사 ', 'id': ' d***', 'contents': '\\n20퍼?\\n'},\n",
       " {'firm': '한국타이어앤테크놀로지\\n',\n",
       "  'id': ' S*****',\n",
       "  'contents': '\\n돈 많은 사람 개 많음.\\n\\n국민대차대조표 보면\\n\\n순자산이 금융순자산 1천조정도고\\n\\n비금융순자산은 2경원 정도임ㅋ\\n\\n너무 많죠? 시사점은 부자가 존나 많다는 것이고\\n\\n부자들이 자산 대부분을 비금융 자산으로 들고 있다는 것임.\\n\\n금융자산만 보면 잘못 판단 할 수 있음.\\n'},\n",
       " {'firm': 'LG디스플레이\\n',\n",
       "  'id': ' I*****',\n",
       "  'contents': '\\n금융자산만 봐도 상위 1%가 가진 금앵이 압도적인데\\n대부분 비금융으로 들고있어봐야 비중은 비슷할거야\\n\\n단순히 비금융자산이 2경원 정도니 잘살거다?\\n대출은 생각을 왜 안함\\n'},\n",
       " {'firm': '신영증권\\n',\n",
       "  'id': ' 신****',\n",
       "  'contents': '\\n그러니 한국타이어앤테크놀로지를 다니는거임...\\n은행돈도 자기꺼라고 생각하거든\\n'},\n",
       " {'firm': '한국타이어앤테크놀로지\\n',\n",
       "  'id': ' S*****',\n",
       "  'contents': '\\n아니 순자산이 그렇다는 거임. 순순\\n대출 제외\\n존나 답답하네\\n\\n신영증권 더 x신인데ㅋ\\n'},\n",
       " {'firm': '인천국제공항공사\\n',\n",
       "  'id': ' 느********',\n",
       "  'contents': '\\n그건 모르겠고\\n시즌마다 공항은 미어터짐\\n'},\n",
       " {'firm': 'SC제일은행\\n',\n",
       "  'id': ' l********',\n",
       "  'contents': '\\n작성자\\n궁금한데. 이글은 인기글도 아니고 올린지도 꽤 된 글인데 어떻게 찾아서 댓글다는거여? 순수하게 궁금해서묻는거임\\n'},\n",
       " {'firm': 'NAVER\\n',\n",
       "  'id': ' 1*********',\n",
       "  'contents': '\\n나는 부동산 단톡방에 누가 링크 올려서 타고 들어옴\\n'},\n",
       " {'firm': 'SC제일은행\\n',\n",
       "  'id': ' l********',\n",
       "  'contents': '\\n작성자\\n헐 굳이 이런 글을 링크까지 남겨서 공유한다고?ㅋㅋㅋ 열심히들 산다\\n'},\n",
       " {'firm': '삼성E&A\\n',\n",
       "  'id': ' J*****',\n",
       "  'contents': '\\n근데 돈많다 아니다를 따질 때 왜 금융자산만 따지는 거야? 금융자산 0원에 부동산 30억이면 부자가 아닌거임?\\n'},\n",
       " {'firm': '삼성E&A\\n',\n",
       "  'id': ' J*****',\n",
       "  'contents': '\\n통계 엄청 좋아하는데 전제는 희안하게 깔고가네\\n'},\n",
       " {'firm': '삼성E&A\\n',\n",
       "  'id': ' J*****',\n",
       "  'contents': '\\n즉시 사용가능한 현금부자는 생각보다 많지 않다고 하면 또 모를까 보통 부동산 얘기하다가 부자많다고 하면 부동산 동산 다 처분해서 또 다른 부동산 매수할 때 자금력 되는 사람이 많다고 하는 의미로 쓰는 말인데 굳이 통계자료까지 들고와서 금융자산으로 한정지어서 부자 별로없다 이러고있네 ㅋㅋ\\n'},\n",
       " {'firm': '새회사 ',\n",
       "  'id': ' 히*******',\n",
       "  'contents': '\\n돈 많은 사람이래잖아. 돈. 현금.\\n즉 현금 또는 당장 현금화 가능한 유동자산을 말하는 거잖아.\\n부동산만 많은 사람은 자산가는 맞지만 돈 많은 사람은 아니지\\n'},\n",
       " {'firm': '키움투자자산운용\\n',\n",
       "  'id': ' i*******',\n",
       "  'contents': '\\n0.8% 면 125명중에 1명이 10억 이상이라는건데, 그러면 많은거 아님? 지하철 한칸에 125명 타면 그 중 한명은 금융자산 10억 이상이라는거 아님? 개많네\\n'},\n",
       " {'firm': 'LG디스플레이\\n',\n",
       "  'id': ' I*****',\n",
       "  'contents': '\\n수능응시자수 기준으로보면 의대 가는 애들이 0.8%임\\n개많다 많다는 아니지 ㅋㅋㅋㅋ\\n'},\n",
       " {'firm': '키움투자자산운용\\n',\n",
       "  'id': ' i*******',\n",
       "  'contents': '\\n의사는 또 왜이리 많아?! 고등학교 학년당 3명이 의대가??? 의사 개많네\\n'},\n",
       " {'firm': '스마일게이트엔터테인먼트\\n',\n",
       "  'id': ' O*****',\n",
       "  'contents': '\\n0.8%들은 지하철 안탈 확률이 올라가긴함\\n'},\n",
       " {'firm': '새회사 ', 'id': ' d***', 'contents': '\\n흠\\n'}]"
      ]
     },
     "execution_count": 119,
     "metadata": {},
     "output_type": "execute_result"
    }
   ],
   "source": [
    "comment_list = list(map(lambda x : get_comment_txt(x), comment_element_list))\n",
    "comment_list"
   ]
  },
  {
   "cell_type": "code",
   "execution_count": 378,
   "id": "b6cf3ba1",
   "metadata": {},
   "outputs": [],
   "source": [
    "# 게시물 이동 후 모든 컨텐츠를 가져오는 함수 definition\n",
    "def get_article(link) : \n",
    "    try :\n",
    "        driver.get(link)\n",
    "        time.sleep(2)\n",
    "        article = {}\n",
    "        # 제목 (<h2>)\n",
    "        title=driver.find_element(By.CLASS_NAME, \"article-view-head\").find_element(By.CSS_SELECTOR, \"h2\").text\n",
    "        # 게시글\n",
    "        body=driver.find_element(By.CLASS_NAME, \"article-view-contents\").find_element(By.ID, \"contentArea\").text\n",
    "        # 작성회사\n",
    "        writer_firm=driver.find_element(By.CLASS_NAME, \"name\").find_element(By.CLASS_NAME, \"point\").text\n",
    "        # 작성ID\n",
    "        writer_id=driver.find_element(By.CLASS_NAME, \"name\").text.split('\\n')[-1]\n",
    "\n",
    "        # 작성일\n",
    "        write_date_before=driver.find_element(By.CLASS_NAME, \"date\").text.split('\\n')[-1]\n",
    "        write_date=convert_date(write_date_before)\n",
    "\n",
    "        # 좋아요\n",
    "        like_cnt=driver.find_element(By.CLASS_NAME, \"like\").text.split('\\n')[-1]\n",
    "\n",
    "        # 댓글수\n",
    "        comment_cnt=driver.find_element(By.CLASS_NAME, \"cmt\").text.split('\\n')[-1]\n",
    "\n",
    "        # 댓글 세부내용 추출\n",
    "        # 댓글이 더 있는경우 모두 펼친다\n",
    "        # 이 기능은 로그인 되어있는 경우만 가능\n",
    "        while True :\n",
    "            # Blind 인증 요구 시 다음 Element 가 생긴다\n",
    "            # 해당 Element가 존재한다면 로그인 불가로 간주하고 현재 보여지는 댓글만 가져오고 끝낸다\n",
    "            # 해당 Element가 없다면, try-catch 로 계속 진행하도록 수행(로그인 된 것으로 간주)\n",
    "            try :\n",
    "                try :\n",
    "                    driver.find_element(By.CLASS_NAME, \"btn-reply\").click()\n",
    "                except :\n",
    "                    break\n",
    "                \n",
    "                if(driver.find_element(By.XPATH, \"/html/body/div/div/div/main/div[3]/div[1]/div\")) :\n",
    "                    # driver.find_element(By.CLASS_NAME, \"btn-cls\").click()\n",
    "                    driver.find_element(By.CSS_SELECTOR, \"#wrap > div:nth-child(4) > div:nth-child(1) > div > div.v--modal-box.v--modal.v--size-s > div > div.ly-modal.ly-signin > div.top-area > button\").click()\n",
    "                    break\n",
    "            except :\n",
    "                continue\n",
    "            \n",
    "    \n",
    "        comment_element_list=driver.find_elements(By.CLASS_NAME, \"comment_area\")\n",
    "        comment_map = [get_comment_txt(x) for x in comment_element_list]\n",
    "        \n",
    "        # Make tuple\n",
    "        article['title']=title\n",
    "        article['body']=body\n",
    "        article['firm']=writer_firm\n",
    "        article['id']=writer_id\n",
    "        article['like_cnt']=like_cnt\n",
    "        article['comment_cnt']=comment_cnt\n",
    "        article['comment_map']=comment_map\n",
    "        \n",
    "        print(f\"[세부 글] {article}\")\n",
    "    \n",
    "        driver.back()\n",
    "    except :\n",
    "        return None\n",
    " \n",
    "    return article"
   ]
  },
  {
   "cell_type": "code",
   "execution_count": 141,
   "id": "ad7d1df4",
   "metadata": {},
   "outputs": [
    {
     "data": {
      "text/plain": [
       "{'title': '다른건 몰라도 돈 많은 사람이 많다는 말은 개구라야ㅎㅎ',\n",
       " 'body': '내가 담당했던 업무 (지금은 아님)가\\n\\nKb부자리포트 같은 곳에 반영되는 고객들 금융자산 현황 만들었었거덩\\n\\n당행뿐 아니라 타행들것도 같이 볼수있는데 거의 전국민의 금융자산 현황을 매일 보는 업무를 했었음ㅎㅎ 개인정보를 본건아니고 전체적인 현황 자료\\n\\n그거보면서 느낀게\\n\\n돈 많은 사람 겁나 많다는거 다 개구라 라는걸 느꼈다ㅎㅎ\\n\\n대부분이 빚더미 위에 올라서 돈많은 척하는거지\\n\\n솔직히 금융자산 자체가 비슷한 경제규모의 타국에 비해 현저히 적음\\n\\n지들끼리는 나 빼고 다 돈 많아~ 우리나라에 돈많은 사람들이 얼마나 많은데 이러고있는게 웃음벨\\n\\n통계에 금융자산 10억이 우리나라에 0.8%도 안되는게 레알인데 저기엔 채권이나 펀드 주식 등 모든 금융자산이 포함되어있어서 당장 현금화시킬수있는 돈 기준으로 하면 진짜 돈많은 사람은 거의 없다\\n\\n한마디로 집 빼면 대부분 빚더미에 앉아있는 위태위태한 사람들이 거의 다더라..',\n",
       " 'firm': 'SC제일은행',\n",
       " 'id': '· l********  ',\n",
       " 'like_cnt': '201',\n",
       " 'comment_cnt': '145',\n",
       " 'comment_map': [{'firm': '변호사 ',\n",
       "   'id': ' P*****',\n",
       "   'contents': '\\n30살 연봉 1억이면 상위 몇퍼야\\n'},\n",
       "  {'firm': '새회사 ',\n",
       "   'id': ' 세********',\n",
       "   'contents': '\\n나 만 28인데 부채제외 주식 부동산 차량 다 현금화하면 7억은 됨 근데 내 주변에 친구들은 다 더 부자야\\n생각보다 부자 많어 ㅠㅡㅠ\\n'},\n",
       "  {'firm': '한국전력공사\\n', 'id': ' i*********', 'contents': '\\n또또 주변도르\\n'},\n",
       "  {'firm': '새회사 ',\n",
       "   'id': ' I********',\n",
       "   'contents': '\\n우리나라에 순자산 32억 이상 있는 가구는 20만이 넘어\\n\\n“상위 1%“인 20만 가구는 서울의 한 구 전체, 혹은 중소도시 하나를 통째로 구성할 정도로 엄청나게 큰 집단입니다.\\n단순히 ‘극소수’가 아닌, 꽤 두터운 규모의 인원이라는 걸 알 수 있죠.\\n\\n참고로 금융자산 10억 이상은 46만명임\\n46만이면 성남시 분당구 인구수랑 같음\\n\\n이렇게 많은 사람들이 5000만명 대비는 작으니까 우리나라 부자 ㅈ도없엌ㅋㅋㅋㅋ 라고할수 있을까?\\n\\n손바닥으로 태양을 가리고 어둡다고 하는거지\\n\\n그리고 부자들을 모여살아 끼리끼리\\n\\n본인주변에 부자가 없다면\\n왜일까 생각해 보자\\n'},\n",
       "  {'firm': 'SC제일은행\\n',\n",
       "   'id': ' l********',\n",
       "   'contents': '\\n작성자\\nㅋㅋㅋ 내가 그 순자산 32억이상 있는 가구중 한명인데. 나도 부동산에 묶여있어서 사실 현금이 별로없어. 그리고 현금화? 그게 말이쉽지 부동산 파는건 쉬운일이 아니다. 양도세도 그렇고\\n\\n대다수 32억이상 있는 가구들도 나와 사정이 별반 다르지않을거야 그러니 금융자산 있는 사람들이 우리나라엔 별로없는것임.\\n'},\n",
       "  {'firm': '신영증권\\n',\n",
       "   'id': ' 신****',\n",
       "   'contents': '\\nㅋㅋㅋ 은행이 자료를가지고 말해도\\n\"주변도르\" \"친구이야기\" 등등으로 자존감 채우는 블라허세인들\\n'},\n",
       "  {'firm': '중소기업연구원\\n',\n",
       "   'id': ' s******',\n",
       "   'contents': '\\n대다수가 작성자의 요지를 파악못한다면 그건, 독자가 아닌 작성자의 글이 충분히 이상하다는 걸 의미함…. 논리야 놀자 라도 읽고와..\\n'},\n",
       "  {'firm': '한양대학교교직원\\n',\n",
       "   'id': ' i*******',\n",
       "   'contents': '\\n와 중소기업연구원은\\nㄹㅇ 멍청한게신념도 강해서\\n때려죽여도 남의말은 안듣네\\n\\n너무추하다ㅋㅋ\\n'},\n",
       "  {'firm': '신영증권\\n',\n",
       "   'id': ' 신****',\n",
       "   'contents': '\\n중.소.기업연구원님이 무조건 맞습니다!!!\\n주변에 강남살고 부자인 친구들이 많으신!!!!!\\n근데 내 주변에 강남사는 부자애들이 다니는 직장중에\\n중.소.기업연구원은 본적없는데..\\nㅎㅎㅎ죄송 저도 주변도르였음\\n'},\n",
       "  {'firm': 'NCSOFT\\n',\n",
       "   'id': ' i*********',\n",
       "   'contents': '\\n한국 사람들 부동산을 너무 좋아해서\\n금융자산 있는 사람들이 진짜 적긴하네\\n얼마전에 나이 40에 금융자산 10억 찍었는데\\n이 정도면 동나이에서 상위 몇퍼센트 정도 될까?\\n'},\n",
       "  {'firm': '새회사 ', 'id': ' d***', 'contents': '\\n20퍼?\\n'},\n",
       "  {'firm': '한국타이어앤테크놀로지\\n',\n",
       "   'id': ' S*****',\n",
       "   'contents': '\\n돈 많은 사람 개 많음.\\n\\n국민대차대조표 보면\\n\\n순자산이 금융순자산 1천조정도고\\n\\n비금융순자산은 2경원 정도임ㅋ\\n\\n너무 많죠? 시사점은 부자가 존나 많다는 것이고\\n\\n부자들이 자산 대부분을 비금융 자산으로 들고 있다는 것임.\\n\\n금융자산만 보면 잘못 판단 할 수 있음.\\n'},\n",
       "  {'firm': 'LG디스플레이\\n',\n",
       "   'id': ' I*****',\n",
       "   'contents': '\\n금융자산만 봐도 상위 1%가 가진 금앵이 압도적인데\\n대부분 비금융으로 들고있어봐야 비중은 비슷할거야\\n\\n단순히 비금융자산이 2경원 정도니 잘살거다?\\n대출은 생각을 왜 안함\\n'},\n",
       "  {'firm': '신영증권\\n',\n",
       "   'id': ' 신****',\n",
       "   'contents': '\\n그러니 한국타이어앤테크놀로지를 다니는거임...\\n은행돈도 자기꺼라고 생각하거든\\n'},\n",
       "  {'firm': '한국타이어앤테크놀로지\\n',\n",
       "   'id': ' S*****',\n",
       "   'contents': '\\n아니 순자산이 그렇다는 거임. 순순\\n대출 제외\\n존나 답답하네\\n\\n신영증권 더 x신인데ㅋ\\n'},\n",
       "  {'firm': '인천국제공항공사\\n',\n",
       "   'id': ' 느********',\n",
       "   'contents': '\\n그건 모르겠고\\n시즌마다 공항은 미어터짐\\n'},\n",
       "  {'firm': 'SC제일은행\\n',\n",
       "   'id': ' l********',\n",
       "   'contents': '\\n작성자\\n궁금한데. 이글은 인기글도 아니고 올린지도 꽤 된 글인데 어떻게 찾아서 댓글다는거여? 순수하게 궁금해서묻는거임\\n'},\n",
       "  {'firm': 'NAVER\\n',\n",
       "   'id': ' 1*********',\n",
       "   'contents': '\\n나는 부동산 단톡방에 누가 링크 올려서 타고 들어옴\\n'},\n",
       "  {'firm': 'SC제일은행\\n',\n",
       "   'id': ' l********',\n",
       "   'contents': '\\n작성자\\n헐 굳이 이런 글을 링크까지 남겨서 공유한다고?ㅋㅋㅋ 열심히들 산다\\n'},\n",
       "  {'firm': '삼성E&A\\n',\n",
       "   'id': ' J*****',\n",
       "   'contents': '\\n근데 돈많다 아니다를 따질 때 왜 금융자산만 따지는 거야? 금융자산 0원에 부동산 30억이면 부자가 아닌거임?\\n'},\n",
       "  {'firm': '삼성E&A\\n',\n",
       "   'id': ' J*****',\n",
       "   'contents': '\\n통계 엄청 좋아하는데 전제는 희안하게 깔고가네\\n'},\n",
       "  {'firm': '삼성E&A\\n',\n",
       "   'id': ' J*****',\n",
       "   'contents': '\\n즉시 사용가능한 현금부자는 생각보다 많지 않다고 하면 또 모를까 보통 부동산 얘기하다가 부자많다고 하면 부동산 동산 다 처분해서 또 다른 부동산 매수할 때 자금력 되는 사람이 많다고 하는 의미로 쓰는 말인데 굳이 통계자료까지 들고와서 금융자산으로 한정지어서 부자 별로없다 이러고있네 ㅋㅋ\\n'},\n",
       "  {'firm': '새회사 ',\n",
       "   'id': ' 히*******',\n",
       "   'contents': '\\n돈 많은 사람이래잖아. 돈. 현금.\\n즉 현금 또는 당장 현금화 가능한 유동자산을 말하는 거잖아.\\n부동산만 많은 사람은 자산가는 맞지만 돈 많은 사람은 아니지\\n'},\n",
       "  {'firm': '키움투자자산운용\\n',\n",
       "   'id': ' i*******',\n",
       "   'contents': '\\n0.8% 면 125명중에 1명이 10억 이상이라는건데, 그러면 많은거 아님? 지하철 한칸에 125명 타면 그 중 한명은 금융자산 10억 이상이라는거 아님? 개많네\\n'},\n",
       "  {'firm': 'LG디스플레이\\n',\n",
       "   'id': ' I*****',\n",
       "   'contents': '\\n수능응시자수 기준으로보면 의대 가는 애들이 0.8%임\\n개많다 많다는 아니지 ㅋㅋㅋㅋ\\n'},\n",
       "  {'firm': '키움투자자산운용\\n',\n",
       "   'id': ' i*******',\n",
       "   'contents': '\\n의사는 또 왜이리 많아?! 고등학교 학년당 3명이 의대가??? 의사 개많네\\n'},\n",
       "  {'firm': '스마일게이트엔터테인먼트\\n',\n",
       "   'id': ' O*****',\n",
       "   'contents': '\\n0.8%들은 지하철 안탈 확률이 올라가긴함\\n'},\n",
       "  {'firm': '새회사 ', 'id': ' d***', 'contents': '\\n흠\\n'}]}"
      ]
     },
     "execution_count": 141,
     "metadata": {},
     "output_type": "execute_result"
    }
   ],
   "source": [
    "get_article(sub_link)"
   ]
  },
  {
   "cell_type": "code",
   "execution_count": null,
   "id": "3076cc06",
   "metadata": {},
   "outputs": [],
   "source": []
  },
  {
   "cell_type": "code",
   "execution_count": null,
   "id": "cecefb96",
   "metadata": {},
   "outputs": [
    {
     "data": {
      "text/plain": [
       "'전세가 병신짓인걸 모르는 사람이 많다는게 놀랍다'"
      ]
     },
     "execution_count": 102,
     "metadata": {},
     "output_type": "execute_result"
    }
   ],
   "source": [
    "# Get Pre-Text on div\n",
    "driver.find_element(By.CLASS_NAME, \"tit\").find_element(By.XPATH, 'h3/a').text"
   ]
  },
  {
   "cell_type": "code",
   "execution_count": 146,
   "id": "fe0d587e",
   "metadata": {},
   "outputs": [
    {
     "data": {
      "text/plain": [
       "'NOW\\n다른건 몰라도 돈 많은 사람이 많다는 말은 개구라야ㅎㅎ\\n내가 담당했던 업무 (지금은 아님)가 Kb부자리포트 같은 곳에 반영되는 고객들 금융자산 현황 만들었었거덩 당행뿐 아니라 타행들것도 같이 볼수있는데 거의 전국민의 금융자산 현황을 매일 보는 업무를 했었음ㅎㅎ 개인정보를 본건아니고 전체적인 현황 자료 그거보면서 느낀게 돈 많은 사람 겁나 많다는거 다 개구라 라는걸 느꼈다ㅎㅎ 대부분이 빚더미 위에 올라서 돈많은 척하는거지 솔직히 금융자산 자체가 비슷한 경제규모의 타국에 비해 현저히 적음 지들끼리는 나 빼고 다 돈 많아~ 우리나라에 돈많은 사람들이 얼마나 많은데 이러고있는\\nSC제일은행 · l********\\n조회수\\n15K\\n좋아요\\n201\\n댓글\\n145\\n작성시간\\n4일\\n북마크'"
      ]
     },
     "execution_count": 146,
     "metadata": {},
     "output_type": "execute_result"
    }
   ],
   "source": [
    "# 최초 설정\n",
    "a=driver.find_element(By.CLASS_NAME, \"article-list-pre\")\n",
    "a.text"
   ]
  },
  {
   "cell_type": "code",
   "execution_count": 147,
   "id": "eb39e82b",
   "metadata": {},
   "outputs": [
    {
     "data": {
      "text/plain": [
       "'다른건 몰라도 돈 많은 사람이 많다는 말은 개구라야ㅎㅎ'"
      ]
     },
     "execution_count": 147,
     "metadata": {},
     "output_type": "execute_result"
    }
   ],
   "source": [
    "a.find_element(By.CLASS_NAME, \"tit\").find_element(By.XPATH, 'h3/a').text"
   ]
  },
  {
   "cell_type": "code",
   "execution_count": 148,
   "id": "14060cd7",
   "metadata": {},
   "outputs": [
    {
     "data": {
      "text/plain": [
       "'https://www.teamblind.com/kr/post/%EB%8B%A4%EB%A5%B8%EA%B1%B4-%EB%AA%B0%EB%9D%BC%EB%8F%84-%EB%8F%88-%EB%A7%8E%EC%9D%80-%EC%82%AC%EB%9E%8C%EC%9D%B4-%EB%A7%8E%EB%8B%A4%EB%8A%94-%EB%A7%90%EC%9D%80-%EA%B0%9C%EA%B5%AC%EB%9D%BC%EC%95%BC%E3%85%8E%E3%85%8E-26nihsck'"
      ]
     },
     "execution_count": 148,
     "metadata": {},
     "output_type": "execute_result"
    }
   ],
   "source": [
    "a.find_element(By.CLASS_NAME, \"tit\").find_element(By.XPATH, 'h3/a').get_attribute('href')"
   ]
  },
  {
   "cell_type": "code",
   "execution_count": 149,
   "id": "8c09c10b",
   "metadata": {},
   "outputs": [
    {
     "data": {
      "text/plain": [
       "'내가 담당했던 업무 (지금은 아님)가 Kb부자리포트 같은 곳에 반영되는 고객들 금융자산 현황 만들었었거덩 당행뿐 아니라 타행들것도 같이 볼수있는데 거의 전국민의 금융자산 현황을 매일 보는 업무를 했었음ㅎㅎ 개인정보를 본건아니고 전체적인 현황 자료 그거보면서 느낀게 돈 많은 사람 겁나 많다는거 다 개구라 라는걸 느꼈다ㅎㅎ 대부분이 빚더미 위에 올라서 돈많은 척하는거지 솔직히 금융자산 자체가 비슷한 경제규모의 타국에 비해 현저히 적음 지들끼리는 나 빼고 다 돈 많아~ 우리나라에 돈많은 사람들이 얼마나 많은데 이러고있는'"
      ]
     },
     "execution_count": 149,
     "metadata": {},
     "output_type": "execute_result"
    }
   ],
   "source": [
    "a.find_element(By.CLASS_NAME, \"tit\").find_element(By.CLASS_NAME, 'pre-txt').text"
   ]
  },
  {
   "cell_type": "code",
   "execution_count": 150,
   "id": "405fcadd",
   "metadata": {},
   "outputs": [
    {
     "data": {
      "text/plain": [
       "'SC제일은행 · l********'"
      ]
     },
     "execution_count": 150,
     "metadata": {},
     "output_type": "execute_result"
    }
   ],
   "source": [
    "a.find_element(By.CLASS_NAME, \"sub\").find_element(By.CLASS_NAME, 'name').text"
   ]
  },
  {
   "cell_type": "code",
   "execution_count": 260,
   "id": "c74fc4fd",
   "metadata": {},
   "outputs": [
    {
     "name": "stdout",
     "output_type": "stream",
     "text": [
      "article-list-pre nth-even\n"
     ]
    },
    {
     "data": {
      "text/plain": [
       "'현금부자 많다는거 다 구라엿네 ;;\\nhttps://n.news.naver.com/article/025/0003452258?sid=101 6억이상 받아서 가격 받혔던거라 조정 꽤 나올듯... 아니 현금부자들 많아서 다 대출 적게받았다면서 형들 이게 무슨일이야\\n삼성바이오로직스 · i*********\\n조회수\\n947\\n좋아요\\n4\\n댓글\\n7\\n작성시간\\n6시간\\n북마크'"
      ]
     },
     "execution_count": 260,
     "metadata": {},
     "output_type": "execute_result"
    }
   ],
   "source": [
    "# Get Next Sibling Object from div\n",
    "a=a.find_element(By.XPATH, './following-sibling::div')\n",
    "print(a.get_attribute('class'))\n",
    "a.text"
   ]
  },
  {
   "cell_type": "code",
   "execution_count": 159,
   "id": "e5dbccdc",
   "metadata": {},
   "outputs": [
    {
     "data": {
      "text/plain": [
       "True"
      ]
     },
     "execution_count": 159,
     "metadata": {},
     "output_type": "execute_result"
    }
   ],
   "source": [
    "a.get_attribute('class').endswith('ad')"
   ]
  },
  {
   "cell_type": "code",
   "execution_count": 254,
   "id": "4e32f844",
   "metadata": {},
   "outputs": [],
   "source": [
    "# If None of next sibling from article-list, scrolling on the DOM body and repeat(recursive) to get sibling object\n",
    "driver.execute_script(\"window.scrollTo(0, document.body.scrollHeight);\")\n",
    "time.sleep(2)    "
   ]
  },
  {
   "cell_type": "code",
   "execution_count": 320,
   "id": "513fa8d3",
   "metadata": {},
   "outputs": [],
   "source": [
    "def get_article_list(url, crawl_cnt) :\n",
    "    driver.get(url)\n",
    "    driver.implicitly_wait(3)\n",
    "    time.sleep(2)  # 페이지 로딩 대기\n",
    "\n",
    "    article_pre_data = []\n",
    "\n",
    "    # 게시물 첫번째거 설정(최초 1회, 이후에는 sibling 으로 설정)\n",
    "    article_preview=driver.find_element(By.CLASS_NAME, \"article-list-pre\")\n",
    "\n",
    "    for i in range(0, crawl_cnt+1) :\n",
    "        article_object={}\n",
    "        \n",
    "        # 광고로 게시물인 경우 넘어간다\n",
    "        # 게시물 text 가 'NOW\\n' or 'HOT\\n' 으로 시작하면 추천게시물이므로 넘어간다\n",
    "        # 이외의 경우 반복 게시물 크롤링 시작\n",
    "        if(article_preview.get_attribute('class').lower().endswith('ad') == False and\n",
    "            article_preview.text.startswith('HOT\\n') == False and\n",
    "            article_preview.text.startswith('NOW\\n') == False) :\n",
    "            #title on list\n",
    "            title = article_preview.find_element(By.CLASS_NAME, \"tit\").find_element(By.XPATH, 'h3/a').text\n",
    "            \n",
    "            # article link\n",
    "            link = article_preview.find_element(By.CLASS_NAME, \"tit\").find_element(By.XPATH, 'h3/a').get_attribute('href')\n",
    "            \n",
    "            # article pre-text\n",
    "            pre_text = article_preview.find_element(By.CLASS_NAME, \"tit\").find_element(By.CLASS_NAME, 'pre-txt').text\n",
    "            \n",
    "            # article firm\n",
    "            firm = article_preview.find_element(By.CLASS_NAME, \"sub\").find_element(By.CLASS_NAME, 'name').text.split('·')[0]\n",
    "            \n",
    "            # article id\n",
    "            id = article_preview.find_element(By.CLASS_NAME, \"sub\").find_element(By.CLASS_NAME, 'name').text.split('·')[1]\n",
    "        \n",
    "            # article date\n",
    "            date_before = article_preview.find_element(By.CLASS_NAME, \"sub\").find_element(By.CLASS_NAME, 'info_fnc').find_element(By.CLASS_NAME, \"past\").text.split('작성시간\\n')[1]\n",
    "            date=convert_date(date_before)\n",
    "        \n",
    "            article_object['title']=title\n",
    "            article_object['link']=link\n",
    "            article_object['pre_text']=pre_text\n",
    "            article_object['firm']=firm\n",
    "            article_object['id']=id\n",
    "            article_object['date']=date\n",
    "            \n",
    "            print(f\"[{i}번째] {article_object}\")\n",
    "            \n",
    "            article_pre_data.append(article_object)\n",
    "            \n",
    "        try :\n",
    "            article_preview = article_preview.find_element(By.XPATH, './following-sibling::div')\n",
    "        # 스크롤링의 끝인 경우 새로운 스크롤링 수행 후 계속 크로링 수행\n",
    "        except NoSuchElementException as e:\n",
    "            driver.execute_script(\"window.scrollTo(0, document.body.scrollHeight);\")\n",
    "            time.sleep(2)    \n",
    "            \n",
    "            print(\"### 스크롤링 완료###\")\n",
    "        \n",
    "    return article_pre_data"
   ]
  },
  {
   "cell_type": "code",
   "execution_count": 321,
   "id": "8c59c58f",
   "metadata": {},
   "outputs": [
    {
     "name": "stdout",
     "output_type": "stream",
     "text": [
      "[1번째] {'title': '올포파는 2년 살아야 하나요?', 'link': 'https://www.teamblind.com/kr/post/%EC%98%AC%ED%8F%AC%ED%8C%8C%EB%8A%94-2%EB%85%84-%EC%82%B4%EC%95%84%EC%95%BC-%ED%95%98%EB%82%98%EC%9A%94-0ejdgwjb', 'pre_text': '제곧내 입니다 바로 못 파나요?', 'firm': 'ex-프레시지 ', 'id': ' 꾸**', 'date': '2025-07-02'}\n",
      "[3번째] {'title': '폭락은 안바람 그냥 오르지만 않으면 됌', 'link': 'https://www.teamblind.com/kr/post/%ED%8F%AD%EB%9D%BD%EC%9D%80-%EC%95%88%EB%B0%94%EB%9E%8C-%EA%B7%B8%EB%83%A5-%EC%98%A4%EB%A5%B4%EC%A7%80%EB%A7%8C-%EC%95%8A%EC%9C%BC%EB%A9%B4-%EB%90%8C-6uw1wtd2', 'pre_text': '물가상승률 1-2프로정도씩만 오르면 된다 근데 아이러니하게도 그렇게되면 가격이 떨어지겠지 몇백씩 이자내면서 집살 유인이 사라짐', 'firm': '한국과학기술연구원 ', 'id': ' 사******', 'date': '2025-07-02'}\n",
      "[4번째] {'title': '방3개 + 알파룸 vs 방3개 + 펜트리\\n투표', 'link': 'https://www.teamblind.com/kr/post/%EB%B0%A93%EA%B0%9C-%EC%95%8C%ED%8C%8C%EB%A3%B8-vs-%EB%B0%A93%EA%B0%9C-%ED%8E%9C%ED%8A%B8%EB%A6%AC-mrakz0e5', 'pre_text': '요새 애기 3명있는집 드물거고 알파룸 트면 주방 확 트여서 들어오자마자 와 넓다 느낌 날거같은데 1. 알파룸 유지 - 애기방 , 컴퓨터방 , 옷방 등 사용 2. 알파룸 트기 - 주방 확장으로 거실이 확 트임 , 펜트리 설치로 수납 기능 뭐가 전세 더 잘 나갈까?? 2번은 +700만원 옵션(확장 및 주방 특화)', 'firm': 'NH농협 ', 'id': ' i*******', 'date': '2025-07-02'}\n",
      "[5번째] {'title': '전세보증금 반환대출 규제가 치명적인듯', 'link': 'https://www.teamblind.com/kr/post/%EC%A0%84%EC%84%B8%EB%B3%B4%EC%A6%9D%EA%B8%88-%EB%B0%98%ED%99%98%EB%8C%80%EC%B6%9C-%EA%B7%9C%EC%A0%9C%EA%B0%80-%EC%B9%98%EB%AA%85%EC%A0%81%EC%9D%B8%EB%93%AF-4a7d2i5p', 'pre_text': '이전에는 전세낀 매물로 이리저리 옮겨다니며 덩치불리기가 가능했는데 이제는 한번 물리면 답이 없다', 'firm': '삼성전자 ', 'id': ' q********', 'date': '2025-07-02'}\n",
      "[7번째] {'title': '지금 정부는 집값을 떨어뜨릴려고하는게 아님', 'link': 'https://www.teamblind.com/kr/post/%EC%A7%80%EA%B8%88-%EC%A0%95%EB%B6%80%EB%8A%94-%EC%A7%91%EA%B0%92%EC%9D%84-%EB%96%A8%EC%96%B4%EB%9C%A8%EB%A6%B4%EB%A0%A4%EA%B3%A0%ED%95%98%EB%8A%94%EA%B2%8C-%EC%95%84%EB%8B%98-4gdh55fs', 'pre_text': '집값이 오르지만 않아도 사람들이 집을 살려고 하지않음 오르지도 않을껄 뭐하러 빚내서 집을삼? ㅂㅅ임? 이 심리가 2008-2014하락기때 심리임 이렇게 심리를 바꾸는걸로 충분히 시장이 변함 그리고 전세로 갈아타면서 집값이 서서히 내려오고 전세는 오르고 부동산 뉴스는 신문에서 사라짐..', 'firm': 'KT ', 'id': ' i*********', 'date': '2025-07-02'}\n",
      "[8번째] {'title': '중개수수료 1500만원인데 깎는 비결 좀 있을까요', 'link': 'https://www.teamblind.com/kr/post/%EC%A4%91%EA%B0%9C%EC%88%98%EC%88%98%EB%A3%8C-1500%EB%A7%8C%EC%9B%90%EC%9D%B8%EB%8D%B0-%EA%B9%8E%EB%8A%94-%EB%B9%84%EA%B2%B0-%EC%A2%80-%EC%9E%88%EC%9D%84%EA%B9%8C%EC%9A%94-cp7wjyoy', 'pre_text': '상한요율 0.7%해서 약 1500만원인데 너무 크네요 잘깎는 비결 좀 있을까요 ㅜㅜ', 'firm': 'KB캐피탈 ', 'id': ' n*****', 'date': '2025-07-02'}\n",
      "[9번째] {'title': '공시지가 구간별 누진 보유세 가자!! 청원해야지', 'link': 'https://www.teamblind.com/kr/post/%EA%B3%B5%EC%8B%9C%EC%A7%80%EA%B0%80-%EA%B5%AC%EA%B0%84%EB%B3%84-%EB%88%84%EC%A7%84-%EB%B3%B4%EC%9C%A0%EC%84%B8-%EA%B0%80%EC%9E%90-%EC%B2%AD%EC%9B%90%ED%95%B4%EC%95%BC%EC%A7%80-xwttcj75', 'pre_text': '공시지가 구간별로 차등 세율 적용한 보유세 민주당 싱크탱크에 청원 넣어야지 ㅋㅋㅋ 공시지가 15억 이상은 공시지가의 15% 정도? 어떤가??', 'firm': '공무원 ', 'id': ' i*******', 'date': '2025-07-02'}\n"
     ]
    }
   ],
   "source": [
    "list = get_article_list(site_url, 10)"
   ]
  },
  {
   "cell_type": "code",
   "execution_count": 373,
   "id": "fde9061e",
   "metadata": {},
   "outputs": [
    {
     "data": {
      "text/html": [
       "<div>\n",
       "<style scoped>\n",
       "    .dataframe tbody tr th:only-of-type {\n",
       "        vertical-align: middle;\n",
       "    }\n",
       "\n",
       "    .dataframe tbody tr th {\n",
       "        vertical-align: top;\n",
       "    }\n",
       "\n",
       "    .dataframe thead th {\n",
       "        text-align: right;\n",
       "    }\n",
       "</style>\n",
       "<table border=\"1\" class=\"dataframe\">\n",
       "  <thead>\n",
       "    <tr style=\"text-align: right;\">\n",
       "      <th></th>\n",
       "      <th>title</th>\n",
       "      <th>link</th>\n",
       "      <th>pre_text</th>\n",
       "      <th>firm</th>\n",
       "      <th>id</th>\n",
       "      <th>date</th>\n",
       "    </tr>\n",
       "  </thead>\n",
       "  <tbody>\n",
       "    <tr>\n",
       "      <th>0</th>\n",
       "      <td>올포파는 2년 살아야 하나요?</td>\n",
       "      <td>https://www.teamblind.com/kr/post/%EC%98%AC%ED...</td>\n",
       "      <td>제곧내 입니다 바로 못 파나요?</td>\n",
       "      <td>ex-프레시지</td>\n",
       "      <td>꾸**</td>\n",
       "      <td>2025-07-02</td>\n",
       "    </tr>\n",
       "    <tr>\n",
       "      <th>1</th>\n",
       "      <td>폭락은 안바람 그냥 오르지만 않으면 됌</td>\n",
       "      <td>https://www.teamblind.com/kr/post/%ED%8F%AD%EB...</td>\n",
       "      <td>물가상승률 1-2프로정도씩만 오르면 된다 근데 아이러니하게도 그렇게되면 가격이 떨어...</td>\n",
       "      <td>한국과학기술연구원</td>\n",
       "      <td>사******</td>\n",
       "      <td>2025-07-02</td>\n",
       "    </tr>\n",
       "    <tr>\n",
       "      <th>2</th>\n",
       "      <td>방3개 + 알파룸 vs 방3개 + 펜트리\\n투표</td>\n",
       "      <td>https://www.teamblind.com/kr/post/%EB%B0%A93%E...</td>\n",
       "      <td>요새 애기 3명있는집 드물거고 알파룸 트면 주방 확 트여서 들어오자마자 와 넓다 느...</td>\n",
       "      <td>NH농협</td>\n",
       "      <td>i*******</td>\n",
       "      <td>2025-07-02</td>\n",
       "    </tr>\n",
       "    <tr>\n",
       "      <th>3</th>\n",
       "      <td>전세보증금 반환대출 규제가 치명적인듯</td>\n",
       "      <td>https://www.teamblind.com/kr/post/%EC%A0%84%EC...</td>\n",
       "      <td>이전에는 전세낀 매물로 이리저리 옮겨다니며 덩치불리기가 가능했는데 이제는 한번 물리...</td>\n",
       "      <td>삼성전자</td>\n",
       "      <td>q********</td>\n",
       "      <td>2025-07-02</td>\n",
       "    </tr>\n",
       "    <tr>\n",
       "      <th>4</th>\n",
       "      <td>지금 정부는 집값을 떨어뜨릴려고하는게 아님</td>\n",
       "      <td>https://www.teamblind.com/kr/post/%EC%A7%80%EA...</td>\n",
       "      <td>집값이 오르지만 않아도 사람들이 집을 살려고 하지않음 오르지도 않을껄 뭐하러 빚내서...</td>\n",
       "      <td>KT</td>\n",
       "      <td>i*********</td>\n",
       "      <td>2025-07-02</td>\n",
       "    </tr>\n",
       "    <tr>\n",
       "      <th>5</th>\n",
       "      <td>중개수수료 1500만원인데 깎는 비결 좀 있을까요</td>\n",
       "      <td>https://www.teamblind.com/kr/post/%EC%A4%91%EA...</td>\n",
       "      <td>상한요율 0.7%해서 약 1500만원인데 너무 크네요 잘깎는 비결 좀 있을까요 ㅜㅜ</td>\n",
       "      <td>KB캐피탈</td>\n",
       "      <td>n*****</td>\n",
       "      <td>2025-07-02</td>\n",
       "    </tr>\n",
       "    <tr>\n",
       "      <th>6</th>\n",
       "      <td>공시지가 구간별 누진 보유세 가자!! 청원해야지</td>\n",
       "      <td>https://www.teamblind.com/kr/post/%EA%B3%B5%EC...</td>\n",
       "      <td>공시지가 구간별로 차등 세율 적용한 보유세 민주당 싱크탱크에 청원 넣어야지 ㅋㅋㅋ ...</td>\n",
       "      <td>공무원</td>\n",
       "      <td>i*******</td>\n",
       "      <td>2025-07-02</td>\n",
       "    </tr>\n",
       "  </tbody>\n",
       "</table>\n",
       "</div>"
      ],
      "text/plain": [
       "                         title  \\\n",
       "0             올포파는 2년 살아야 하나요?   \n",
       "1        폭락은 안바람 그냥 오르지만 않으면 됌   \n",
       "2   방3개 + 알파룸 vs 방3개 + 펜트리\\n투표   \n",
       "3         전세보증금 반환대출 규제가 치명적인듯   \n",
       "4      지금 정부는 집값을 떨어뜨릴려고하는게 아님   \n",
       "5  중개수수료 1500만원인데 깎는 비결 좀 있을까요   \n",
       "6   공시지가 구간별 누진 보유세 가자!! 청원해야지   \n",
       "\n",
       "                                                link  \\\n",
       "0  https://www.teamblind.com/kr/post/%EC%98%AC%ED...   \n",
       "1  https://www.teamblind.com/kr/post/%ED%8F%AD%EB...   \n",
       "2  https://www.teamblind.com/kr/post/%EB%B0%A93%E...   \n",
       "3  https://www.teamblind.com/kr/post/%EC%A0%84%EC...   \n",
       "4  https://www.teamblind.com/kr/post/%EC%A7%80%EA...   \n",
       "5  https://www.teamblind.com/kr/post/%EC%A4%91%EA...   \n",
       "6  https://www.teamblind.com/kr/post/%EA%B3%B5%EC...   \n",
       "\n",
       "                                            pre_text        firm           id  \\\n",
       "0                                  제곧내 입니다 바로 못 파나요?    ex-프레시지           꾸**   \n",
       "1  물가상승률 1-2프로정도씩만 오르면 된다 근데 아이러니하게도 그렇게되면 가격이 떨어...  한국과학기술연구원       사******   \n",
       "2  요새 애기 3명있는집 드물거고 알파룸 트면 주방 확 트여서 들어오자마자 와 넓다 느...       NH농협      i*******   \n",
       "3  이전에는 전세낀 매물로 이리저리 옮겨다니며 덩치불리기가 가능했는데 이제는 한번 물리...       삼성전자     q********   \n",
       "4  집값이 오르지만 않아도 사람들이 집을 살려고 하지않음 오르지도 않을껄 뭐하러 빚내서...         KT    i*********   \n",
       "5     상한요율 0.7%해서 약 1500만원인데 너무 크네요 잘깎는 비결 좀 있을까요 ㅜㅜ      KB캐피탈        n*****   \n",
       "6  공시지가 구간별로 차등 세율 적용한 보유세 민주당 싱크탱크에 청원 넣어야지 ㅋㅋㅋ ...        공무원      i*******   \n",
       "\n",
       "         date  \n",
       "0  2025-07-02  \n",
       "1  2025-07-02  \n",
       "2  2025-07-02  \n",
       "3  2025-07-02  \n",
       "4  2025-07-02  \n",
       "5  2025-07-02  \n",
       "6  2025-07-02  "
      ]
     },
     "execution_count": 373,
     "metadata": {},
     "output_type": "execute_result"
    }
   ],
   "source": [
    "df = pd.DataFrame(list)\n",
    "df"
   ]
  },
  {
   "cell_type": "code",
   "execution_count": 379,
   "id": "9c29b277",
   "metadata": {},
   "outputs": [
    {
     "name": "stdout",
     "output_type": "stream",
     "text": [
      "[세부 글] {'title': '올포파는 2년 살아야 하나요?', 'body': '제곧내 입니다\\n바로 못 파나요?', 'firm': 'ex-프레시지', 'id': '· 꾸**  ', 'like_cnt': '1', 'comment_cnt': '2', 'comment_map': [{'firm': '연세대학교의료원\\n', 'id': ' k*****', 'contents': '\\n실거주의무있습니다\\n'}, {'firm': '삼성SDS\\n', 'id': ' |********', 'contents': '\\n올파포야\\n'}]}\n",
      "[세부 글] {'title': '방3개 + 알파룸 vs 방3개 + 펜트리', 'body': '요새 애기 3명있는집 드물거고\\n\\n알파룸 트면 주방 확 트여서 들어오자마자 와 넓다 느낌 날거같은데\\n\\n1. 알파룸 유지 - 애기방 , 컴퓨터방 , 옷방 등 사용\\n\\n2. 알파룸 트기 - 주방 확장으로 거실이 확 트임 , 펜트리 설치로 수납 기능\\n\\n뭐가 전세 더 잘 나갈까??\\n\\n2번은 +700만원 옵션(확장 및 주방 특화)', 'firm': 'NH농협', 'id': '· i*******  ', 'like_cnt': '1', 'comment_cnt': '1', 'comment_map': [{'firm': '한일시멘트\\n', 'id': ' n*****', 'contents': '\\n전세면 돈 들인만큼 큰 차이는 없으니\\n돈 안쓰는게 나을듯!\\n'}]}\n",
      "[세부 글] {'title': '전세보증금 반환대출 규제가 치명적인듯', 'body': '이전에는 전세낀 매물로 이리저리 옮겨다니며 덩치불리기가 가능했는데\\n이제는 한번 물리면 답이 없다', 'firm': '삼성전자', 'id': '· q********  ', 'like_cnt': '3', 'comment_cnt': '2', 'comment_map': [{'firm': '한국애보트\\n', 'id': ' ㅇ********', 'contents': '\\n그치 ㅠ\\n'}, {'firm': '크래프톤\\n', 'id': ' G*****', 'contents': '\\n이건 ㄹㅇ임\\n'}]}\n",
      "[세부 글] {'title': '지금 정부는 집값을 떨어뜨릴려고하는게 아님', 'body': '집값이 오르지만 않아도 사람들이 집을 살려고 하지않음\\n\\n오르지도 않을껄 뭐하러 빚내서 집을삼? ㅂㅅ임?\\n이 심리가 2008-2014하락기때 심리임\\n\\n이렇게 심리를 바꾸는걸로 충분히 시장이 변함\\n\\n그리고 전세로 갈아타면서 집값이 서서히 내려오고 전세는 오르고 부동산 뉴스는 신문에서 사라짐..', 'firm': 'KT', 'id': '· i*********  ', 'like_cnt': '9', 'comment_cnt': '30', 'comment_map': [{'firm': '삼성전자\\n', 'id': ' 북*****', 'contents': '\\n굿\\n집 아직 못 산 사람들 일시적으로나마 박탈감 없애주는 정책인 듯\\n'}, {'firm': '새회사 ', 'id': ' 오**', 'contents': '\\n딱 그 심리가 이명박때와 윤석열때였는데\\n공급이 느나? 금리가 오르나?\\n대출규제만하네 ㅋㅋ 알고보니 문재인시즌2네?\\n'}, {'firm': '신한은행\\n', 'id': ' 1*********', 'contents': '\\n이주비랑 중도금 죄다 틀어막은거 존나 의도적인 건데 아직도 이재명이 집값 잡아줄 사람으로 보이나보네?\\n'}, {'firm': 'KT\\n', 'id': ' i*********', 'contents': '\\n작성자\\n결과야 모르지.. 근데 막 떨굴라고 하는게 아니라는것뿐\\n'}, {'firm': 'NEOPLE\\n', 'id': ' 구*****', 'contents': '\\n공급절벽 금리인하 시기에\\n전세가 오르는데 집값이 안올라?\\n'}, {'firm': 'KT\\n', 'id': ' i*********', 'contents': '\\n작성자\\n전세가 올라서 매매가에 90%까지 갔었음. 그래도 집을 안삼.\\n왜냐면 사봐야 안오르니깐...\\n\\n사면 취등록세 내야하지 팔기도 어렵지...그랬었음\\n'}, {'firm': 'NEOPLE\\n', 'id': ' 구*****', 'contents': '\\n그땐 미국 경제 흔들흔들+공급폭발 이였잖아\\n지금하고 다름ㅋㅋ\\n'}, {'firm': 'KT\\n', 'id': ' i*********', 'contents': '\\n작성자\\n트럼프 관세갖고 장난치는거보면 지금도 만만치않음 ㅋㅋ\\n'}, {'firm': '의사 ', 'id': ' r********', 'contents': '\\n집이 있던 사람이 집을 팔고 전세로 간다고?ㅋㅋㅋ 말이 쉽지 ㅋㅋㅋㅋ 거의 불가능임 그냥 다들 스트레스 받으면서 꾸역꾸역 버티는거임\\n'}, {'firm': 'KT\\n', 'id': ' i*********', 'contents': '\\n작성자\\n20억자리 집을 깔고앉아있는것보다 12-3억에 전세로 가고 7억은 굴리는거지.. 왜냐면 집값이 안오르니깐..\\n\\n저땐 그랬었다는데 뭔 불가능까지\\n'}, {'firm': '광진\\n', 'id': ' k***', 'contents': '\\n이말이 맞아 대출로 집값에 거품이껴서 유래없이 낮은 전세가율이 현재임. 매매가는 내려가고 전세가는 올라가야 정상가격이 되는거임\\n'}, {'firm': 'HD현대오일뱅크\\n', 'id': ' t********', 'contents': '\\n맞는말인거 같은데 지금은 너무 공급이 없긴 하네\\n'}, {'firm': '삼성전자\\n', 'id': ' l*********', 'contents': '\\n이때는 딱 이심리긴 했는데.. 이제 나라가 저성장 구조로 가서 믿을만한 자산은 수도권 부동산이라고 인식 되어 있어서, 이걸 깨는건 쉽지 않을거 같긴해 내 생각은\\n'}, {'firm': '삼성전자\\n', 'id': ' l*********', 'contents': '\\n이때는 하우스 푸어라는 말도 유명 했잖아. 집 산 사람 바보 취급 되고\\n'}, {'firm': 'LG전자\\n', 'id': ' I********', 'contents': '\\nㅋㅋㅋ 살던집 팔고 무주택 간다는거 부터 거를소리\\n개소리\\n'}, {'firm': 'KT\\n', 'id': ' i*********', 'contents': '\\n작성자\\n너가 10억짜리를 5억 대출받아샀는데 이게 안올라..\\n근데 5억 대출이자는 계속나가..\\n거기다가 이게 한 몇년동안 유지되면\\n그집 들고있는게 ㅂㅅ임\\n'}, {'firm': '인천국제공항공사\\n', 'id': ' i*********', 'contents': '\\n전월세 비용은 조상님이 내주나요?\\n식솔들 의식주를 가지고 숏을쳐요?\\n\\n집 사본적 없죠?\\n'}, {'firm': 'KT\\n', 'id': ' i*********', 'contents': '\\n작성자\\n니 원금 5억으로 전세가는거지\\n'}]}\n",
      "[세부 글] {'title': '중개수수료 1500만원인데 깎는 비결 좀 있을까요', 'body': '상한요율 0.7%해서 약 1500만원인데 너무 크네요\\n\\n잘깎는 비결 좀 있을까요 ㅜㅜ', 'firm': 'KB캐피탈', 'id': '· n*****  ', 'like_cnt': '1', 'comment_cnt': '21', 'comment_map': [{'firm': '교보증권\\n', 'id': ' 파**', 'contents': '\\n그정돈 내라\\n'}, {'firm': '연합자산관리\\n', 'id': ' F*****', 'contents': '\\n매일 찾아가서 울고 불고하세요 제 지인이 그렇게해서 깎았어요\\n'}, {'firm': '한국전력공사\\n', 'id': ' !********', 'contents': '\\nㅋㅋㅋㅋㅋㅋㅋ 능력자네\\n'}, {'firm': '아시아나항공\\n', 'id': ' D*****', 'contents': '\\nㅈㄴ웃김ㅋㅋㅋ 나중에 써먹을겤ㅋㅋ\\n'}, {'firm': 'LG CNS\\n', 'id': ' !*****', 'contents': '\\n0.5 가 일반적인데...\\n'}, {'firm': '한국전력공사\\n', 'id': ' !********', 'contents': '\\n잔금 다 치루고\\n봉투에 1,000만원만 넣어서\\n중개사 책상 위에 슬쩍 놓고 나오세요^^\\n'}, {'firm': '한일시멘트\\n', 'id': ' n*****', 'contents': '\\nㅋㅋㅋㅋㅋㅋㅋ 아닠ㅋㅋ 사기 아니냐궄ㅋㅋ\\n'}, {'firm': 'KT\\n', 'id': ' i*********', 'contents': '\\n계약서 쓸때 쇼부봐 안한다고해\\n'}, {'firm': '홈플러스\\n', 'id': ' 슈******', 'contents': '\\n거래하기전에 쇼부봐야됨\\n안그러면 다른부동산 간다고ㅋ\\n한200-300정도는 깎아준다ㅋ\\n'}, {'firm': '국민은행\\n', 'id': ' L***', 'contents': '\\n계약서 쓰기전에 협상\\n'}, {'firm': '교보리얼코\\n', 'id': ' 젖*****', 'contents': '\\n계약서 썼어? 어떤 단계야?\\n'}, {'firm': 'KB캐피탈\\n', 'id': ' n*****', 'contents': '\\n작성자\\n가계약했고 본계약서 대기중\\n'}, {'firm': '한국전력공사\\n', 'id': ' !********', 'contents': '\\n가계약했음 끝\\n깎아달라했다가 서로 기분만 상함\\n'}, {'firm': '신세계아이앤씨\\n', 'id': ' t******', 'contents': '\\n기분 상하면 어때\\n부동산 어차피 돈 왔다갔다하면 다시 안 보는데\\n'}, {'firm': 'LIG넥스원\\n', 'id': ' i********', 'contents': '\\n깎을 수 있어요. 일단 논리를 잘 만드시구요. (돈이 없다. 인테리어 취득세 비용 등등)\\n비타500이라도 들고가서, 앞으로 전세놓을 일 있으면 여기에만 내놓겠다. 등등 거래 지속 보장하는 멘트, 지인들 많이 소개해주겠다 등등 감언이설로 당근을 주어야 합니다. 그리고 절반 정도 가격 먼저 제시...\\n'}, {'firm': '약사 ', 'id': ' 소*****', 'contents': '\\n가계약 전에 ㄱㄱ\\n'}]}\n"
     ]
    }
   ],
   "source": [
    "df['article_doc'] = df.apply(lambda x : get_article(x.link), axis=1)"
   ]
  },
  {
   "cell_type": "code",
   "execution_count": 377,
   "id": "b8ce3341",
   "metadata": {},
   "outputs": [
    {
     "data": {
      "text/plain": [
       "title                              공시지가 구간별 누진 보유세 가자!! 청원해야지\n",
       "link        https://www.teamblind.com/kr/post/%EA%B3%B5%EC...\n",
       "pre_text    공시지가 구간별로 차등 세율 적용한 보유세 민주당 싱크탱크에 청원 넣어야지 ㅋㅋㅋ ...\n",
       "firm                                                     공무원 \n",
       "id                                                   i*******\n",
       "date                                               2025-07-02\n",
       "Name: 6, dtype: object"
      ]
     },
     "execution_count": 377,
     "metadata": {},
     "output_type": "execute_result"
    }
   ],
   "source": [
    "df.loc[6]"
   ]
  },
  {
   "cell_type": "code",
   "execution_count": null,
   "id": "ced99d86",
   "metadata": {},
   "outputs": [],
   "source": []
  }
 ],
 "metadata": {
  "kernelspec": {
   "display_name": "base",
   "language": "python",
   "name": "python3"
  },
  "language_info": {
   "codemirror_mode": {
    "name": "ipython",
    "version": 3
   },
   "file_extension": ".py",
   "mimetype": "text/x-python",
   "name": "python",
   "nbconvert_exporter": "python",
   "pygments_lexer": "ipython3",
   "version": "3.12.7"
  }
 },
 "nbformat": 4,
 "nbformat_minor": 5
}
